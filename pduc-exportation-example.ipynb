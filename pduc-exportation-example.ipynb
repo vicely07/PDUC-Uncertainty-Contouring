{
 "cells": [
  {
   "cell_type": "markdown",
   "metadata": {},
   "source": [
    "## 1. Loading required packages and functions"
   ]
  },
  {
   "cell_type": "code",
   "execution_count": 1,
   "metadata": {},
   "outputs": [],
   "source": [
    "%matplotlib inline\n",
    "\n",
    "from model.dicom_utils import *\n",
    "import numpy as np \n",
    "import pandas as pd \n",
    "import os\n",
    "import pydicom\n",
    "import matplotlib.pyplot as plt\n",
    "#import assd_func as af\n",
    "from skimage import morphology\n",
    "import matplotlib.patches as mpatches\n",
    "import model.sduc_src as af_Sobel\n",
    "import time\n",
    "import random\n",
    "from scipy.stats import uniform,norm\n",
    "import time\n",
    "import multiprocessing as mp\n",
    "from model.smooth_3D_contour import *"
   ]
  },
  {
   "cell_type": "markdown",
   "metadata": {},
   "source": [
    "## 2. Loading in the data using th main function from dicom_utils"
   ]
  },
  {
   "cell_type": "code",
   "execution_count": 2,
   "metadata": {},
   "outputs": [],
   "source": [
    "def read_exported_contours(path, images, slices):\n",
    "    contour = read_contours(path)\n",
    "    labels = get_labels(contour, images.shape, slices, rois=None)\n",
    "    labels = np.where(labels == True, 1, 0)\n",
    "    return labels"
   ]
  },
  {
   "cell_type": "code",
   "execution_count": null,
   "metadata": {},
   "outputs": [],
   "source": [
    "Sample subject 11"
   ]
  },
  {
   "cell_type": "code",
   "execution_count": null,
   "metadata": {},
   "outputs": [],
   "source": [
    "dicom_dir = \"Sample-prostate-Cases/11\"\n",
    "output_dir = \"Sample-output\"\n",
    "images_11, slices_11, contours_11, labels_11, dummy_mask_11 = main(dicom_dir, output_dir)"
   ]
  },
  {
   "cell_type": "markdown",
   "metadata": {},
   "source": [
    "## 3. Finding organs ID:"
   ]
  },
  {
   "cell_type": "code",
   "execution_count": 4,
   "metadata": {},
   "outputs": [],
   "source": [
    "def find_roi_x(images, labels, i):\n",
    "    roi_y = []\n",
    "    for j in range(labels.shape[2]):\n",
    "        if True in np.unique(labels[..., i][:, :,  j] > 0):\n",
    "            roi_y.append(j)\n",
    "    return roi_y\n",
    "\n",
    "def find_roi_y(images, labels, i):\n",
    "    roi_x = []\n",
    "    for j in range(labels.shape[1]):\n",
    "        if True in np.unique(labels[..., i][:, j,  :] > 0):\n",
    "            roi_x.append(j)\n",
    "    return roi_x\n",
    "\n",
    "def find_roi_z(images, labels, i):\n",
    "    roi_z = []\n",
    "    for j in range(images.shape[0]):\n",
    "        if True in np.unique(labels[..., i][j, ...] > 0):\n",
    "            roi_z.append(j)\n",
    "    return roi_z\n",
    "\n",
    "def find_organ_i(organ, contours):\n",
    "    contour_table = pd.DataFrame()\n",
    "    number = []\n",
    "    name = []\n",
    "    for i in range(len(contours)):\n",
    "        number.append(contours[i][\"number\"])\n",
    "        name.append(contours[i][\"name\"])\n",
    "    contour_table[\"number\"] = number\n",
    "    contour_table[\"name\"] = name\n",
    "    #print(contour_table)\n",
    "    organ_i =  contour_table[contour_table[\"name\"].str.contains(organ)].index.tolist()[0]\n",
    "    return organ_i"
   ]
  },
  {
   "cell_type": "code",
   "execution_count": null,
   "metadata": {},
   "outputs": [],
   "source": [
    "def roi_info_extraction(organ, contours, images, labels):\n",
    "    organ_i_p =  find_organ_i(organ, contours)\n",
    "    roi_x_p = find_roi_x(images, labels, organ_i_p)\n",
    "    roi_y_p = find_roi_y(images, labels, organ_i_p)\n",
    "    roi_z_p = find_roi_z(images, labels, organ_i_p)\n",
    "    return organ_i_p, roi_x_p, roi_y_p, roi_z_p\n",
    "\n",
    "organ_p = \"prostate\" \n",
    "organ_r = \"rectum\" # or Rectum\n",
    "organ_b = \"bladder\" # or Bladder\n",
    "\n",
    "# Subject 11:\n",
    "print(\"subject 11\")\n",
    "organ_i_p_11, roi_x_p_11, roi_y_p_11, roi_z_p_11 = roi_info_extraction(organ_p, contours_11, images_11, labels_11)\n",
    "organ_i_r_11, roi_x_r_11, roi_y_r_11, roi_z_r_11 = roi_info_extraction(organ_r, contours_11, images_11, labels_11)\n",
    "organ_i_b_11, roi_x_b_11, roi_y_b_11, roi_z_b_11 = roi_info_extraction(organ_b, contours_11, images_11, labels_11)"
   ]
  },
  {
   "cell_type": "markdown",
   "metadata": {},
   "source": [
    "## 4. Extraction:"
   ]
  },
  {
   "cell_type": "markdown",
   "metadata": {},
   "source": [
    "## Prostate"
   ]
  },
  {
   "cell_type": "code",
   "execution_count": null,
   "metadata": {},
   "outputs": [],
   "source": [
    "start = time.time()\n",
    "SD_list1 = [1.7, 1.7, 2]\n",
    "\n",
    "# Prostate\n",
    "gt_p_11 = labels_11[..., organ_i_p_11].copy()\n",
    "\n",
    "num_cores=1\n",
    "pool = mp.Pool(num_cores)\n",
    "\n",
    "list_of_c = [5, 50, 100, 200, 300]\n",
    "#list_of_c = [50, 200, 100, 5, 300]\n",
    "\n",
    "sub1_results1  = []\n",
    "for c in list_of_c:\n",
    "    contour = creating_contour(c, SD_list1, organ_i_p_11, labels_11, images_11, roi_x_p_11, roi_y_p_11, roi_z_p_11, \"prostate\")\n",
    "    sub1_results1.append(contour)\n",
    "\n",
    "                   \n",
    "#sub1_results1 = [p.get() for p in sub1_results1]  \n",
    "    \n",
    "print(\"---------------------------Prostate done-------------------------------------------\")"
   ]
  },
  {
   "cell_type": "markdown",
   "metadata": {},
   "source": [
    "## Rectum"
   ]
  },
  {
   "cell_type": "code",
   "execution_count": null,
   "metadata": {},
   "outputs": [],
   "source": [
    "# Rectum\n",
    "#list_of_c = [5, 100, 50, 300, 200]\n",
    "list_of_c = [5, 50, 100, 200, 300]\n",
    "\n",
    "gt_r_11 = labels_11[..., organ_i_r_11].copy()\n",
    "\n",
    "SD_list2 = [1.3, 1.3, 3]\n",
    "sub1_results2  = []\n",
    "for c in list_of_c:\n",
    "    contour = creating_contour(c, SD_list2, organ_i_r_11, labels_11, images_11, roi_x_p_11, roi_y_p_11, roi_z_p_11, \"rectum\")\n",
    "    sub1_results2.append(contour)\n",
    "\n",
    "#sub1_results2 = [p.get() for p in sub1_results2]    \n",
    "\n",
    "    \n",
    "print(\"---------------------------rectum done---------------------------------------------\")"
   ]
  },
  {
   "cell_type": "markdown",
   "metadata": {},
   "source": [
    "## Bladder"
   ]
  },
  {
   "cell_type": "code",
   "execution_count": null,
   "metadata": {},
   "outputs": [],
   "source": [
    "# bldder\n",
    "#list_of_c = [100, 50, 300, 200, 5]\n",
    "\n",
    "gt_b_11 = labels_11[..., organ_i_b_11].copy()\n",
    "\n",
    "SD_list3 = [0.7, 0.7, 2]\n",
    "\n",
    "sub1_results3  = []\n",
    "for c in list_of_c:\n",
    "    contour = creating_contour(c, SD_list3, organ_i_b_11, labels_11, images_11, roi_x_p_11, roi_y_p_11, roi_z_p_11, \"bladder\")\n",
    "    sub1_results3.append(contour)\n",
    "\n",
    "#sub1_results3 = [p.get() for p in sub1_results3]    \n",
    "\n",
    "\n",
    "print(\"---------------------------bladder done-------------------------------------------\")"
   ]
  },
  {
   "cell_type": "markdown",
   "metadata": {},
   "source": [
    "## 5. Exportation:"
   ]
  },
  {
   "cell_type": "code",
   "execution_count": null,
   "metadata": {},
   "outputs": [],
   "source": [
    "gt_r_11 = labels_11[..., organ_i_r_11].copy()\n",
    "gt_b_11 = labels_11[..., organ_i_b_11].copy()\n",
    "\n",
    "## Exportation\n",
    "prostate_list = [gt_p_11, sub1_results1[0], sub1_results1[1], sub1_results1[2], sub1_results1[3], sub1_results1[4]]\n",
    "prostate_name = [\"truth_prostate\", \"auto_prostate_1\", \"auto_prostate_2\", \"auto_prostate_3\", \"auto_prostate_4\", \"auto_prostate_5\"]\n",
    "prostate_color = [\"red\", \"green\", \"purple\", \"yellow\", \"blue\", \"orange\"]\n",
    "rectum_list = [gt_r_11, sub1_results2[0], sub1_results2[1], sub1_results2[2], sub1_results2[3], sub1_results2[4]]\n",
    "rectum_name = [\"truth_rectum\", \"auto_rectum_1\", \"auto_rectum_2\", \"auto_rectum_3\", \"auto_rectum_4\", \"auto_rectum_5\"]\n",
    "rectum_color = [\"red\", \"purple\", \"yellow\", \"blue\", \"orange\", \"green\"]\n",
    "bladder_list = [gt_b_11, sub1_results3[0], sub1_results3[1], sub1_results3[2], sub1_results3[3], sub1_results3[4]]\n",
    "bladder_name = [\"truth_bladder\", \"auto_bladder_1\", \"auto_bladder_2\", \"auto_bladder_3\", \"auto_bladder_4\", \"auto_bladder_5\"]\n",
    "bladder_color = [\"red\", \"green\", \"purple\", \"yellow\", \"blue\", \"orange\"]\n",
    "\n",
    "#destination_path = \"../\"\n",
    "destination_path = \"Sample-output\"\n",
    "RTStruct(prostate_list + rectum_list + bladder_list, prostate_name + rectum_name + bladder_name, color=prostate_color + rectum_color + bladder_color, DICOMImageStruct = slices_11, fname=os.path.join(destination_path, 'subject_11_contours_7_3.dcm'))\n",
    "end = time.time()\n",
    "print(\"Running time:\" + str(end-start))\n",
    "pool.close()"
   ]
  }
 ],
 "metadata": {
  "kernelspec": {
   "display_name": "Python 3",
   "language": "python",
   "name": "python3"
  },
  "language_info": {
   "codemirror_mode": {
    "name": "ipython",
    "version": 3
   },
   "file_extension": ".py",
   "mimetype": "text/x-python",
   "name": "python",
   "nbconvert_exporter": "python",
   "pygments_lexer": "ipython3",
   "version": "3.7.0"
  }
 },
 "nbformat": 4,
 "nbformat_minor": 4
}
